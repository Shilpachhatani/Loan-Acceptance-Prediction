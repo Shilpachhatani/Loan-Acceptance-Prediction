{
 "cells": [
  {
   "cell_type": "markdown",
   "id": "882094f2",
   "metadata": {},
   "source": [
    "# Task 5: Personal Loan Acceptance Prediction\n",
    "###  Objective:\n",
    "Predict which customers are likely to accept a personal loan offer using classification models.\n",
    "- **Dataset**: Bank Marketing Dataset (UCI Machine Learning Repository)\n",
    "\n"
   ]
  },
  {
   "cell_type": "code",
   "execution_count": null,
   "id": "0be2878b-53f3-47e8-b680-48b9afe4a460",
   "metadata": {},
   "outputs": [],
   "source": [
    "# import Necessary Libraries\n",
    "import pandas as pd\n",
    "import matplotlib.pyplot as plt\n",
    "import seaborn as sns\n",
    "from sklearn.model_selection import train_test_split\n",
    "from sklearn.preprocessing import LabelEncoder\n",
    "from sklearn.linear_model import LogisticRegression\n",
    "from sklearn.tree import DecisionTreeClassifier\n",
    "from sklearn.preprocessing import StandardScaler\n",
    "from sklearn.metrics import accuracy_score, confusion_matrix, classification_report"
   ]
  },
  {
   "cell_type": "markdown",
   "id": "49ef8d50-e659-4e98-91ff-3a89f3dbf840",
   "metadata": {},
   "source": [
    "## Load Dataset"
   ]
  },
  {
   "cell_type": "code",
   "execution_count": null,
   "id": "55cf882d",
   "metadata": {},
   "outputs": [],
   "source": [
    "# Load the dataset\n",
    "df = pd.read_csv(\"../data/bank.csv\")\n",
    "\n",
    "# Show basic info and first few rows\n",
    "print(df.info())\n",
    "df.head()"
   ]
  },
  {
   "cell_type": "markdown",
   "id": "f4703cd0",
   "metadata": {},
   "source": [
    "## Dataset Description\n",
    "The dataset contains 4521 customer records with 17 features such as:\n",
    "- age, job, marital, education, balance\n",
    "- default, housing, loan, contact, month, day, duration\n",
    "- pdays, previous, poutcome\n",
    "- y → Target (1 = Accepted Loan, 0 = Not Accepted)\n",
    "\n"
   ]
  },
  {
   "cell_type": "markdown",
   "id": "c54f6d38",
   "metadata": {},
   "source": [
    "##  Data Cleaning and Preparation"
   ]
  },
  {
   "cell_type": "code",
   "execution_count": null,
   "id": "ebc48c96",
   "metadata": {},
   "outputs": [],
   "source": [
    "# Ensure target column is numeric\n",
    "df['y'] = df['y'].astype(int)\n",
    "\n",
    "# Check for missing values\n",
    "df.isnull().sum()"
   ]
  },
  {
   "cell_type": "markdown",
   "id": "108f54b2",
   "metadata": {},
   "source": [
    "## Exploratory Data Analysis (EDA)\n",
    "Explore how features like age, job, and marital status influence loan acceptance."
   ]
  },
  {
   "cell_type": "markdown",
   "id": "e3c96089-1892-4924-bc40-d0b6db0ef8c7",
   "metadata": {},
   "source": [
    "#### Age Distribution by Loan Acceptance"
   ]
  },
  {
   "cell_type": "code",
   "execution_count": null,
   "id": "7137d893",
   "metadata": {},
   "outputs": [],
   "source": [
    "sns.set(style=\"whitegrid\")\n",
    "\n",
    "plt.figure(figsize=(16, 10))\n",
    "\n",
    "plt.subplot(2, 2, 1)\n",
    "sns.histplot(data=df, x='age', hue='y', bins=30, kde=True, palette='pastel')\n",
    "plt.title(\"Age Distribution by Loan Acceptance\")\n",
    "\n",
    "\n",
    "plt.tight_layout()\n",
    "plt.show()"
   ]
  },
  {
   "cell_type": "markdown",
   "id": "e6fcfeaa-13be-43e5-b6a9-28cabd3811b3",
   "metadata": {},
   "source": [
    "##### Insight:\n",
    "The Above Graph Shows\n",
    "- Most clients are aged 30–40.\n",
    "- People around 30–35 are slightly more likely to accept.\n",
    "- Overall, younger people (25–40) have more acceptances than older ones."
   ]
  },
  {
   "cell_type": "markdown",
   "id": "f5e6826a-7e6a-4084-8b06-c9612084fc9d",
   "metadata": {},
   "source": [
    "#### Job vs Loan Acceptance"
   ]
  },
  {
   "cell_type": "code",
   "execution_count": null,
   "id": "b4e009b6-b3b1-4172-94b5-de69580e71fd",
   "metadata": {},
   "outputs": [],
   "source": [
    "plt.figure(figsize=(16, 10))\n",
    "\n",
    "plt.subplot(2, 2, 2)\n",
    "sns.countplot(data=df, y='job', hue='y', palette='Set2')\n",
    "plt.title(\"Job vs Loan Acceptance\")\n",
    "\n",
    "\n",
    "plt.tight_layout()\n",
    "plt.show()"
   ]
  },
  {
   "cell_type": "markdown",
   "id": "ee55f86d-32f9-455a-8a4e-f5ae151b9894",
   "metadata": {},
   "source": [
    "##### Insight:\n",
    "The Above Graph Shows:\n",
    "- Management, technicians, and admin. have high participation.\n",
    "- Students, entrepreneurs, and self-employed have a higher acceptance rate, even if total counts are lower.\n",
    "- Retired, housemaids, and blue-collar workers have low acceptance.\n",
    "\n"
   ]
  },
  {
   "cell_type": "markdown",
   "id": "93c43e09-504a-41b4-9041-cc892c1dc6d3",
   "metadata": {},
   "source": [
    "#### Marital Status vs Loan Acceptance"
   ]
  },
  {
   "cell_type": "code",
   "execution_count": null,
   "id": "64781c9c-30ab-4dae-ac55-abc7c2c057e8",
   "metadata": {},
   "outputs": [],
   "source": [
    "plt.figure(figsize=(16, 10))\n",
    "\n",
    "plt.subplot(2, 2, 3)\n",
    "sns.countplot(data=df, x='marital', hue='y', palette='Set3')\n",
    "plt.title(\"Marital Status vs Loan Acceptance\")\n",
    "\n",
    "plt.tight_layout()\n",
    "plt.show()\n"
   ]
  },
  {
   "cell_type": "markdown",
   "id": "e9006d3e-125b-4296-8c30-b966046696d7",
   "metadata": {},
   "source": [
    "##### Insight:\n",
    "The Above Graph Shows:\n",
    "- Most clients are married, but the acceptance rate is low in that group.\n",
    "- Single people show a relatively higher acceptance rate than married or divorced."
   ]
  },
  {
   "cell_type": "markdown",
   "id": "97f717cb-5b8b-4f1f-aab8-2074d651c0f4",
   "metadata": {},
   "source": [
    "#### Education vs Loan Acceptance"
   ]
  },
  {
   "cell_type": "code",
   "execution_count": null,
   "id": "d39e1130-577f-4b0f-bd9d-f26d3097c0b9",
   "metadata": {},
   "outputs": [],
   "source": [
    "plt.figure(figsize=(16, 10))\n",
    "\n",
    "plt.subplot(2, 2, 4)\n",
    "sns.countplot(data=df, x='education', hue='y', palette='Set1')\n",
    "plt.title(\"Education vs Loan Acceptance\")\n",
    "\n",
    "plt.tight_layout()\n",
    "plt.show()"
   ]
  },
  {
   "cell_type": "markdown",
   "id": "b2177bf0-9187-4e9b-a260-69f77325af92",
   "metadata": {},
   "source": [
    "##### Insight:\n",
    "The Above Graph Shows:\n",
    "- People with tertiary (higher) education are more likely to accept offers.\n",
    "- Those with only primary education rarely accept.\n",
    "- Clients with unknown education also show very low acceptance."
   ]
  },
  {
   "cell_type": "markdown",
   "id": "de513418",
   "metadata": {},
   "source": [
    "## Model Training & Testing"
   ]
  },
  {
   "cell_type": "code",
   "execution_count": null,
   "id": "e42e2883",
   "metadata": {},
   "outputs": [],
   "source": [
    "\n",
    "# Encode categorical variables\n",
    "df_encoded = df.copy()\n",
    "label_encoders = {}\n",
    "for col in df_encoded.select_dtypes(include='object').columns:\n",
    "    le = LabelEncoder()\n",
    "    df_encoded[col] = le.fit_transform(df_encoded[col])\n",
    "    label_encoders[col] = le\n",
    "\n",
    "# Define features and target\n",
    "X = df_encoded.drop('y', axis=1)\n",
    "y = df_encoded['y']\n",
    "\n",
    "# Train/test split\n",
    "X_train, X_test, y_train, y_test = train_test_split(X, y, test_size=0.2, random_state=42)"
   ]
  },
  {
   "cell_type": "code",
   "execution_count": null,
   "id": "604565d9-a354-429b-9a68-398bbefb17fd",
   "metadata": {},
   "outputs": [],
   "source": [
    "X.head()\n"
   ]
  },
  {
   "cell_type": "code",
   "execution_count": null,
   "id": "d34018cc-d5b0-4ea6-aa17-fe841b844f90",
   "metadata": {},
   "outputs": [],
   "source": [
    "y.head()"
   ]
  },
  {
   "cell_type": "markdown",
   "id": "d478ebaa-d2fc-4ce0-9aa0-f559539997df",
   "metadata": {},
   "source": [
    "### Logistic Regression"
   ]
  },
  {
   "cell_type": "code",
   "execution_count": null,
   "id": "22134a2b",
   "metadata": {},
   "outputs": [],
   "source": [
    "# Scale the features\n",
    "scaler = StandardScaler()\n",
    "X_train_scaled = scaler.fit_transform(X_train)\n",
    "X_test_scaled = scaler.transform(X_test)\n",
    "\n",
    "# Train Logistic Regression on scaled data\n",
    "lr_model = LogisticRegression(max_iter=1000)\n",
    "lr_model.fit(X_train_scaled, y_train)\n",
    "y_pred_lr = lr_model.predict(X_test_scaled)"
   ]
  },
  {
   "cell_type": "markdown",
   "id": "6f7e1ba1-1f1d-47b4-aeea-d2774f35d208",
   "metadata": {},
   "source": [
    "### Decision Tree"
   ]
  },
  {
   "cell_type": "code",
   "execution_count": null,
   "id": "d539d279-29a6-42b9-8068-576724286522",
   "metadata": {},
   "outputs": [],
   "source": [
    "# Decision Tree\n",
    "dt_model = DecisionTreeClassifier(random_state=42)\n",
    "dt_model.fit(X_train, y_train)\n",
    "y_pred_dt = dt_model.predict(X_test)"
   ]
  },
  {
   "cell_type": "markdown",
   "id": "171d6d2e",
   "metadata": {},
   "source": [
    "##  Evaluation Metrics"
   ]
  },
  {
   "cell_type": "code",
   "execution_count": null,
   "id": "94a27d23",
   "metadata": {},
   "outputs": [],
   "source": [
    "# Evaluate both models\n",
    "print(\"Logistic Regression Accuracy:\", round(accuracy_score(y_test, y_pred_lr) * 100, 2), \"%\")\n",
    "print(\"Confusion Matrix (Logistic Regression):\\n\", confusion_matrix(y_test, y_pred_lr))\n",
    "print(\"Classification Report (Logistic Regression):\\n\", classification_report(y_test, y_pred_lr))\n",
    "\n",
    "print(\"\\nDecision Tree Accuracy:\", round(accuracy_score(y_test, y_pred_dt) * 100, 2), \"%\")\n",
    "print(\"Confusion Matrix (Decision Tree):\\n\", confusion_matrix(y_test, y_pred_dt))\n",
    "print(\"Classification Report (Decision Tree):\\n\", classification_report(y_test, y_pred_dt))"
   ]
  },
  {
   "cell_type": "markdown",
   "id": "ea61d551",
   "metadata": {},
   "source": [
    "**Logistic Regression**\n",
    "- Accuracy: 89%\n",
    "- Good at saying who won’t take the loan.\n",
    "- Misses many people who would take it.\n",
    "\n",
    "**Decision Tree**\n",
    "- Accuracy: 87%\n",
    "- Better at finding people who will take the loan.\n",
    "- Makes more wrong guesses.\n",
    "----------------------------------------------------------\n",
    "**Suggestions:**\n",
    "- Use Logistic Regression if you want to be safe.\n",
    "- Use Decision Tree if you want to find more customers who might say yes."
   ]
  },
  {
   "cell_type": "code",
   "execution_count": null,
   "id": "7f78535d",
   "metadata": {},
   "outputs": [],
   "source": [
    "# Logistic Regression\n",
    "\n",
    "# Plot confusion matrices\n",
    "fig, axes = plt.subplots(1, 2, figsize=(12, 5))\n",
    "\n",
    "sns.heatmap([[788, 19], [81, 17]], annot=True, fmt='d', cmap='Blues', ax=axes[0])\n",
    "axes[0].set_title('Logistic Regression Confusion Matrix')\n",
    "axes[0].set_xlabel('Predicted')\n",
    "axes[0].set_ylabel('Actual')\n",
    "\n",
    "plt.tight_layout()\n",
    "plt.show()\n"
   ]
  },
  {
   "cell_type": "code",
   "execution_count": null,
   "id": "82e36f7a-0a2c-4292-9ae4-5f43e4bbb8d6",
   "metadata": {},
   "outputs": [],
   "source": [
    "# Decision Tree\n",
    "\n",
    "# Plot confusion matrices\n",
    "fig, axes = plt.subplots(1, 2, figsize=(12, 5))\n",
    "\n",
    "sns.heatmap([[743, 64], [52, 46]], annot=True, fmt='d', cmap='Greens', ax=axes[1])\n",
    "axes[1].set_title('Decision Tree Confusion Matrix')\n",
    "axes[1].set_xlabel('Predicted')\n",
    "axes[1].set_ylabel('Actual')\n",
    "\n",
    "plt.tight_layout()\n",
    "plt.show()\n"
   ]
  },
  {
   "cell_type": "code",
   "execution_count": null,
   "id": "9038ab0d",
   "metadata": {},
   "outputs": [],
   "source": [
    "# 🔍 Feature Importance from Decision Tree\n",
    "import matplotlib.pyplot as plt\n",
    "import seaborn as sns\n",
    "import pandas as pd\n",
    "\n",
    "# Extract and plot top 10 important features\n",
    "importances = dt_model.feature_importances_\n",
    "feature_names = X.columns\n",
    "\n",
    "importance_df = pd.DataFrame({\n",
    "    'Feature': feature_names,\n",
    "    'Importance': importances\n",
    "}).sort_values(by='Importance', ascending=False)\n",
    "\n",
    "plt.figure(figsize=(10, 6))\n",
    "sns.barplot(data=importance_df.head(10), x='Importance', y='Feature', palette='viridis')\n",
    "plt.title('Top 10 Important Features (Decision Tree)')\n",
    "plt.xlabel('Feature Importance Score')\n",
    "plt.ylabel('Feature')\n",
    "plt.tight_layout()\n",
    "plt.show()\n",
    "\n",
    "importance_df.head(10)\n"
   ]
  },
  {
   "cell_type": "markdown",
   "id": "e1c21f16",
   "metadata": {},
   "source": [
    "Based on the model, these things matter most:\n",
    "\n",
    "- People who talk longer on the call are more likely to say yes.\n",
    "- Age **25–40** is the most responsive group.\n",
    "- Those with a higher bank balance usually accept more.\n",
    "- Single people accept more than married or divorced ones.\n",
    "- Students, people in **management**, and **entrepreneurs** are more open."
   ]
  },
  {
   "cell_type": "markdown",
   "id": "2bc6edc1",
   "metadata": {},
   "source": []
  },
  {
   "cell_type": "markdown",
   "id": "a180cee4",
   "metadata": {},
   "source": [
    "## Conclusion and Insights\n",
    "\n",
    "- **Decision Tree** outperforms Logistic Regression in identifying customers likely to accept offers.\n",
    "- **Single, highly educated, and younger customers** show higher acceptance rates.\n",
    "- Recommendation: Use Decision Tree for targeted marketing campaigns.\n",
    "\n"
   ]
  },
  {
   "cell_type": "code",
   "execution_count": null,
   "id": "e34e335d-6ef7-4c8f-a93a-9457ac82f27b",
   "metadata": {},
   "outputs": [],
   "source": []
  }
 ],
 "metadata": {
  "kernelspec": {
   "display_name": "Python 3 (ipykernel)",
   "language": "python",
   "name": "python3"
  },
  "language_info": {
   "codemirror_mode": {
    "name": "ipython",
    "version": 3
   },
   "file_extension": ".py",
   "mimetype": "text/x-python",
   "name": "python",
   "nbconvert_exporter": "python",
   "pygments_lexer": "ipython3",
   "version": "3.8.10"
  }
 },
 "nbformat": 4,
 "nbformat_minor": 5
}
